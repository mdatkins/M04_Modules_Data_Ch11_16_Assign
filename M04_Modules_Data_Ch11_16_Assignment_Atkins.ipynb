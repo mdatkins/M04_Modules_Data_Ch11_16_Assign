{
 "cells": [
  {
   "cell_type": "markdown",
   "id": "bab236f3",
   "metadata": {},
   "source": [
    "Lubanovic textbook 11.1:  Create a file called zoo.py containing function hours() to print 'Open 9-5 daily'. Then, use the interactive interpreter (or Jupyter notebook??) to import the zoo module and call the hours() function."
   ]
  },
  {
   "cell_type": "code",
   "execution_count": 6,
   "id": "14ef6a93",
   "metadata": {},
   "outputs": [
    {
     "name": "stdout",
     "output_type": "stream",
     "text": [
      "The zoo is Open 9-5 daily\n",
      "Washington St. and White River Pkwy\n"
     ]
    }
   ],
   "source": [
    "import zoo as z\n",
    "print('The zoo is ',end = '')\n",
    "z.hours()     # print the zoo hours\n",
    "z.location()  # print the zoo location"
   ]
  },
  {
   "cell_type": "markdown",
   "id": "2ac6f373",
   "metadata": {},
   "source": [
    "Lubanovic textbook 11.3:  import the hours() function from zoo directly and call it."
   ]
  },
  {
   "cell_type": "code",
   "execution_count": 7,
   "id": "220a0614",
   "metadata": {},
   "outputs": [
    {
     "name": "stdout",
     "output_type": "stream",
     "text": [
      "The zoo is Open 9-5 daily\n",
      "Washington St. and White River Pkwy\n"
     ]
    }
   ],
   "source": [
    "from zoo import hours, location\n",
    "print('The zoo is ',end = '')\n",
    "hours()     # print the zoo hours\n",
    "location()  # print the zoo location"
   ]
  },
  {
   "cell_type": "markdown",
   "id": "9d565549",
   "metadata": {},
   "source": [
    "Lubanovic textbook 11.2: Import the zoo module as menagerie and call its hours() function."
   ]
  },
  {
   "cell_type": "code",
   "execution_count": 8,
   "id": "76096f00",
   "metadata": {},
   "outputs": [
    {
     "name": "stdout",
     "output_type": "stream",
     "text": [
      "The zoo is Open 9-5 daily\n"
     ]
    }
   ],
   "source": [
    "import zoo as menagerie\n",
    "print('The zoo is ',end = '')\n",
    "menagerie.hours()     # print the zoo hours"
   ]
  },
  {
   "cell_type": "markdown",
   "id": "462eafc3",
   "metadata": {},
   "source": [
    "Lubanovic textbook 16.1: Save the following text lines to a file called books.csv:\n",
    "author,book\n",
    "J R R Tolkien,The Hobbit\n",
    "Lynne Truss,\"Eats, Shoots & Leaves\""
   ]
  },
  {
   "cell_type": "code",
   "execution_count": 22,
   "id": "8709901f",
   "metadata": {},
   "outputs": [],
   "source": [
    "import csv\n",
    "lines = [ ['author', 'book'],\n",
    "          ['J R R Tolkien', 'The Hobbit'],\n",
    "          ['Lynne Truss', 'Eats, Shoots & Leaves']       \n",
    "        ]\n",
    "with open('books.csv', 'wt') as fout:   \n",
    "    csvout = csv.writer(fout)\n",
    "    csvout.writerows(lines)"
   ]
  },
  {
   "cell_type": "markdown",
   "id": "64dfd063",
   "metadata": {},
   "source": [
    "Lubanovic textbook 16.2: Use the csv module and its DictReader method to read books.csv to the variable books_. Print the values in books_. Did DictReader handle the quotes and commas in the second book’s title?  *YES"
   ]
  },
  {
   "cell_type": "code",
   "execution_count": 21,
   "id": "0f7a9978",
   "metadata": {},
   "outputs": [
    {
     "data": {
      "text/plain": [
       "[{'author': 'J R R Tolkien', 'book': 'The Hobbit'},\n",
       " {'author': 'Lynne Truss', 'book': 'Eats, Shoots & Leaves'}]"
      ]
     },
     "execution_count": 21,
     "metadata": {},
     "output_type": "execute_result"
    }
   ],
   "source": [
    "import csv\n",
    "from pprint import pprint\n",
    "with open('books.csv', 'rt') as infile: \n",
    "    cin = csv.DictReader(infile)  ##, fieldnames=['author', 'book'])\n",
    "    books_ = [row for row in cin]\n",
    "books_\n",
    "#pprint(books_)  # prints the same thing as just the variable name on previous line"
   ]
  },
  {
   "cell_type": "markdown",
   "id": "009b6b93",
   "metadata": {},
   "source": [
    "Lubanovic 16.3: Create a CSV file called books2.csv ..."
   ]
  },
  {
   "cell_type": "code",
   "execution_count": 4,
   "id": "3e224bda",
   "metadata": {},
   "outputs": [],
   "source": [
    "import csv\n",
    "lines = [ ['title','author','year'],\n",
    "          ['The Weirdstone of Brisingamen', 'Alan Garner', '1960'],\n",
    "          ['Perdido Street Station', 'China Miéville', '2000'],\n",
    "          ['Thud!','Terry Pratchett','2005'],\n",
    "           ['The Spellman Files','Lisa Lutz','2007'],\n",
    "           ['Small Gods','Terry Pratchett','1992']         \n",
    "        ]\n",
    "\n",
    "with open('books2.csv', 'wt') as fout:   \n",
    "    csvout = csv.writer(fout)\n",
    "    csvout.writerows(lines)"
   ]
  },
  {
   "cell_type": "markdown",
   "id": "8ff195c9",
   "metadata": {},
   "source": [
    "Lubanovic 16.4: Use the sqlite3 module to create a SQLite database called books.db and a table called books with these fields: title (text), author (text), and year (integer)."
   ]
  },
  {
   "cell_type": "code",
   "execution_count": 29,
   "id": "0978fae9",
   "metadata": {},
   "outputs": [
    {
     "data": {
      "text/plain": [
       "<sqlite3.Cursor at 0x21311f94fc0>"
      ]
     },
     "execution_count": 29,
     "metadata": {},
     "output_type": "execute_result"
    }
   ],
   "source": [
    "import sqlite3\n",
    "conn = sqlite3.connect('books2.db')\n",
    "curs = conn.cursor()\n",
    "curs.execute('''CREATE TABLE books\n",
    "    (title VARCHAR(20) PRIMARY KEY,\n",
    "     author VARCHAR(20),\n",
    "     year VARCHAR(4))''') # year is supposed to be INT, but can't make 16.5 work with int"
   ]
  },
  {
   "cell_type": "markdown",
   "id": "dfaa2286",
   "metadata": {},
   "source": [
    "Lubanovic 16.5: Read books2.csv and insert its data into the book table."
   ]
  },
  {
   "cell_type": "code",
   "execution_count": 32,
   "id": "20d536ee",
   "metadata": {},
   "outputs": [
    {
     "name": "stdout",
     "output_type": "stream",
     "text": [
      "[{'title': 'The Weirdstone of Brisingamen', 'author': 'Alan Garner', 'year': '1960'}, {'title': 'Perdido Street Station', 'author': 'China Miéville', 'year': '2000'}, {'title': 'Thud!', 'author': 'Terry Pratchett', 'year': '2005'}, {'title': 'The Spellman Files', 'author': 'Lisa Lutz', 'year': '2007'}, {'title': 'Small Gods', 'author': 'Terry Pratchett', 'year': '1992'}]\n",
      "'The Weirdstone of Brisingamen', 'Alan Garner', '1960'\n",
      "'Perdido Street Station', 'China Miéville', '2000'\n",
      "'Thud!', 'Terry Pratchett', '2005'\n",
      "'The Spellman Files', 'Lisa Lutz', '2007'\n",
      "'Small Gods', 'Terry Pratchett', '1992'\n"
     ]
    }
   ],
   "source": [
    "import csv\n",
    "import sqlite3\n",
    " \n",
    "with open('books2.csv', 'rt') as infile: \n",
    "    cin = csv.DictReader(infile)  ##, fieldnames=['author', 'book'])\n",
    "    books_ = [row for row in cin]\n",
    "    \n",
    "print(books_)  ## display list of dictionaries to verify the read of data written to csv file in previous program\n",
    "#for entry in books_: # step through the list of book dictionaries\n",
    "#    print(entry.values())\n",
    "#    for value in entry.values():\n",
    "#        print(value)\n",
    "    \n",
    "conn = sqlite3.connect('books2.db')\n",
    "curs = conn.cursor()\n",
    "ins = 'INSERT INTO books (title, author, year) VALUES(?, ?, int(?)'\n",
    " \n",
    "for entry in books_:\n",
    "    s = str(entry.values()); s = s[13:-2];   print( s) #strip off the leading \"dict_values([\" and trailing \"])\"\n",
    "    type(s)\n",
    " #   curs.execute(ins, (s)) # write values into file.db\n"
   ]
  },
  {
   "cell_type": "markdown",
   "id": "e66fea45",
   "metadata": {},
   "source": [
    "Lubanovic textbook 16.8:  Use the sqlalchemy module to connect to the sqlite3 database books.db that you just made in exercise 16.4. As in 16.6, select and print the title column from the book table in alphabetical order."
   ]
  },
  {
   "cell_type": "code",
   "execution_count": null,
   "id": "bccd3dac",
   "metadata": {},
   "outputs": [],
   "source": [
    "I give up, this is taking way too much time!!"
   ]
  }
 ],
 "metadata": {
  "kernelspec": {
   "display_name": "Python 3 (ipykernel)",
   "language": "python",
   "name": "python3"
  },
  "language_info": {
   "codemirror_mode": {
    "name": "ipython",
    "version": 3
   },
   "file_extension": ".py",
   "mimetype": "text/x-python",
   "name": "python",
   "nbconvert_exporter": "python",
   "pygments_lexer": "ipython3",
   "version": "3.11.5"
  }
 },
 "nbformat": 4,
 "nbformat_minor": 5
}
